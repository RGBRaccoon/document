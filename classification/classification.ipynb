{
 "cells": [
  {
   "cell_type": "markdown",
   "metadata": {},
   "source": [
    "# classification\n",
    "반응 변수가 질적, 범주형 변수\n",
    "ex 개인지 고양이인지 분류등"
   ]
  },
  {
   "cell_type": "code",
   "execution_count": null,
   "metadata": {},
   "outputs": [],
   "source": []
  },
  {
   "cell_type": "markdown",
   "metadata": {},
   "source": [
    "기본적인 로지스틱 함수.\n",
    "\n",
    "𝑝(𝑋) = exp(𝛽0 + 𝛽1𝑋)/1 + exp(𝛽0 + 𝛽1𝑋)\n",
    "\n",
    "지수함수인 exp가 사용되는 이유: p(x)는 확률이기 때문에, 0-1사이의 값을 가져야 한다"
   ]
  },
  {
   "cell_type": "markdown",
   "metadata": {},
   "source": [
    "로지스틱에서는 선형회귀에서 사용하는 최소제곱법이 적절하지 않다. \n",
    "대신 최대우도추정법을 사용한다.\n",
    "\n",
    "\n",
    "\n",
    "\n"
   ]
  },
  {
   "cell_type": "code",
   "execution_count": null,
   "metadata": {},
   "outputs": [],
   "source": []
  }
 ],
 "metadata": {
  "kernelspec": {
   "display_name": "data_algorithm",
   "language": "python",
   "name": "python3"
  },
  "language_info": {
   "name": "python",
   "version": "3.11.11"
  }
 },
 "nbformat": 4,
 "nbformat_minor": 2
}
